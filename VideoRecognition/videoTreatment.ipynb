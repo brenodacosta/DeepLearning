{
 "cells": [
  {
   "cell_type": "code",
   "execution_count": 1,
   "metadata": {},
   "outputs": [],
   "source": [
    "import cv2"
   ]
  },
  {
   "cell_type": "code",
   "execution_count": 2,
   "metadata": {},
   "outputs": [
    {
     "ename": "SyntaxError",
     "evalue": "invalid syntax (framemanagement.py, line 93)",
     "output_type": "error",
     "traceback": [
      "Traceback \u001b[1;36m(most recent call last)\u001b[0m:\n",
      "  File \u001b[0;32m~\\AppData\\Roaming\\Python\\Python39\\site-packages\\IPython\\core\\interactiveshell.py:3361\u001b[0m in \u001b[0;35mrun_code\u001b[0m\n    exec(code_obj, self.user_global_ns, self.user_ns)\n",
      "\u001b[1;36m  Input \u001b[1;32mIn [2]\u001b[1;36m in \u001b[1;35m<cell line: 1>\u001b[1;36m\u001b[0m\n\u001b[1;33m    import framemanagement,os,re,imageio\u001b[0m\n",
      "\u001b[1;36m  File \u001b[1;32mc:\\Users\\bdacosta\\Documents\\GitHub\\DeepLearning\\VideoRecognition\\framemanagement.py:93\u001b[1;36m\u001b[0m\n\u001b[1;33m    assert type(frame_src) == np.ndarray or type(frame_src) == , 'height_video must be int'\u001b[0m\n\u001b[1;37m                                                               ^\u001b[0m\n\u001b[1;31mSyntaxError\u001b[0m\u001b[1;31m:\u001b[0m invalid syntax\n"
     ]
    }
   ],
   "source": [
    "import framemanagement,os,re,imageio"
   ]
  },
  {
   "cell_type": "code",
   "execution_count": 6,
   "metadata": {},
   "outputs": [
    {
     "name": "stderr",
     "output_type": "stream",
     "text": [
      "IMAGEIO FFMPEG_WRITER WARNING: input image is not divisible by macro_block_size=16, resizing from (500, 258) to (512, 272) to ensure video compatibility with most codecs and players. To prevent resizing, make your input image divisible by the macro_block_size or set the macro_block_size to 1 (risking incompatibility).\n"
     ]
    }
   ],
   "source": [
    "frametest = [r\"C:\\Users\\bdacosta\\Documents\\GitHub\\DeepLearning\\datasets\\flowers\\daisy\\5794839_200acd910c_n.jpg\",r\"C:\\Users\\bdacosta\\Documents\\GitHub\\DeepLearning\\datasets\\flowers\\daisy\\54377391_15648e8d18.jpg\",r\"C:\\Users\\bdacosta\\Documents\\GitHub\\DeepLearning\\datasets\\flowers\\daisy\\495098110_3a4bb30042_n.jpg\"]\n",
    "test = framemanagement.frameInsert(frametest,'giphy.gif',8,True,'project.mp4')\n"
   ]
  },
  {
   "cell_type": "code",
   "execution_count": 13,
   "metadata": {},
   "outputs": [],
   "source": [
    "path='./frames/'\n",
    "filenames = os.listdir(path) # List frames\n",
    "filenames.sort(key=lambda f: int(re.sub('\\D', '', f)))\n",
    "images = []\n",
    "\n",
    "with imageio.get_writer('movie1.gif', mode='I') as writer:\n",
    "    for filename in filenames:\n",
    "        image = imageio.imread(os.path.join(path,filename))\n",
    "        writer.append_data(image)"
   ]
  },
  {
   "cell_type": "code",
   "execution_count": 1,
   "metadata": {},
   "outputs": [
    {
     "ename": "ModuleNotFoundError",
     "evalue": "No module named 'imageio'",
     "output_type": "error",
     "traceback": [
      "\u001b[1;31m---------------------------------------------------------------------------\u001b[0m",
      "\u001b[1;31mModuleNotFoundError\u001b[0m                       Traceback (most recent call last)",
      "\u001b[1;32mc:\\Users\\bdacosta\\Documents\\GitHub\\DeepLearning\\VideoRecognition\\videoTreatment.ipynb Cell 5'\u001b[0m in \u001b[0;36m<cell line: 1>\u001b[1;34m()\u001b[0m\n\u001b[1;32m----> <a href='vscode-notebook-cell:/c%3A/Users/bdacosta/Documents/GitHub/DeepLearning/VideoRecognition/videoTreatment.ipynb#ch0000004?line=0'>1</a>\u001b[0m \u001b[39mimport\u001b[39;00m \u001b[39mimageio\u001b[39;00m\n",
      "\u001b[1;31mModuleNotFoundError\u001b[0m: No module named 'imageio'"
     ]
    }
   ],
   "source": [
    "import cv2\n"
   ]
  },
  {
   "cell_type": "code",
   "execution_count": 219,
   "metadata": {},
   "outputs": [
    {
     "name": "stdout",
     "output_type": "stream",
     "text": [
      "['frame0.jpg', 'frame1.jpg', 'frame2.jpg', 'frame3.jpg', 'frame4.jpg', 'frame5.jpg', 'frame6.jpg', 'frame7.jpg', 'frame8.jpg', 'frame9.jpg', 'frame10.jpg', 'frame11.jpg', 'frame12.jpg', 'frame13.jpg', 'frame14.jpg', 'frame15.jpg', 'frame16.jpg', 'frame17.jpg', 'frame18.jpg', 'frame19.jpg', 'frame20.jpg', 'frame21.jpg', 'frame22.jpg', 'frame23.jpg']\n"
     ]
    }
   ],
   "source": [
    "\n",
    "import imageio\n",
    "filenames = os.listdir('./frames/') # List frames\n",
    "filenames.sort(key=lambda f: int(re.sub('\\D', '', f)))\n",
    "print(filenames)\n",
    "images = []\n",
    "for filename in filenames:\n",
    "    images.append(imageio.imread(os.path.join(path,filename)))\n",
    "imageio.mimsave('movie.gif', images)"
   ]
  }
 ],
 "metadata": {
  "interpreter": {
   "hash": "2774a8415f09893285cc6e03d767513b1d52106c6c399704cd035abaaab7a2d9"
  },
  "kernelspec": {
   "display_name": "Python 3.9.9 64-bit",
   "language": "python",
   "name": "python3"
  },
  "language_info": {
   "codemirror_mode": {
    "name": "ipython",
    "version": 3
   },
   "file_extension": ".py",
   "mimetype": "text/x-python",
   "name": "python",
   "nbconvert_exporter": "python",
   "pygments_lexer": "ipython3",
   "version": "3.9.10"
  },
  "orig_nbformat": 4
 },
 "nbformat": 4,
 "nbformat_minor": 2
}
